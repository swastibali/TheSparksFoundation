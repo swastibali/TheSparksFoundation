{
 "cells": [
  {
   "cell_type": "markdown",
   "metadata": {},
   "source": [
    "# The Sparks Foundation, GRIP June 2021"
   ]
  },
  {
   "cell_type": "markdown",
   "metadata": {},
   "source": [
    "## Task 2: Prediction using Unsupervised ML\n",
    "Predict the optimum number of clusters from given \"iris\" dataset and represent it visually"
   ]
  },
  {
   "cell_type": "markdown",
   "metadata": {},
   "source": [
    "## By:- Swasti Bali"
   ]
  },
  {
   "cell_type": "markdown",
   "metadata": {},
   "source": [
    "### importing libraries"
   ]
  },
  {
   "cell_type": "code",
   "execution_count": 1,
   "metadata": {},
   "outputs": [],
   "source": [
    "import numpy as np\n",
    "import pandas as pd\n",
    "import matplotlib.pyplot as plt"
   ]
  },
  {
   "cell_type": "markdown",
   "metadata": {},
   "source": [
    "### importing dataset"
   ]
  },
  {
   "cell_type": "code",
   "execution_count": 2,
   "metadata": {},
   "outputs": [
    {
     "name": "stdout",
     "output_type": "stream",
     "text": [
      "      Id  SepalLengthCm  SepalWidthCm  PetalLengthCm  PetalWidthCm  \\\n",
      "0      1            5.1           3.5            1.4           0.2   \n",
      "1      2            4.9           3.0            1.4           0.2   \n",
      "2      3            4.7           3.2            1.3           0.2   \n",
      "3      4            4.6           3.1            1.5           0.2   \n",
      "4      5            5.0           3.6            1.4           0.2   \n",
      "..   ...            ...           ...            ...           ...   \n",
      "145  146            6.7           3.0            5.2           2.3   \n",
      "146  147            6.3           2.5            5.0           1.9   \n",
      "147  148            6.5           3.0            5.2           2.0   \n",
      "148  149            6.2           3.4            5.4           2.3   \n",
      "149  150            5.9           3.0            5.1           1.8   \n",
      "\n",
      "            Species  \n",
      "0       Iris-setosa  \n",
      "1       Iris-setosa  \n",
      "2       Iris-setosa  \n",
      "3       Iris-setosa  \n",
      "4       Iris-setosa  \n",
      "..              ...  \n",
      "145  Iris-virginica  \n",
      "146  Iris-virginica  \n",
      "147  Iris-virginica  \n",
      "148  Iris-virginica  \n",
      "149  Iris-virginica  \n",
      "\n",
      "[150 rows x 6 columns]\n"
     ]
    }
   ],
   "source": [
    "df = pd.read_csv('iris.csv')\n",
    "print(df)"
   ]
  },
  {
   "cell_type": "code",
   "execution_count": 3,
   "metadata": {},
   "outputs": [
    {
     "name": "stdout",
     "output_type": "stream",
     "text": [
      "<class 'pandas.core.frame.DataFrame'>\n",
      "RangeIndex: 150 entries, 0 to 149\n",
      "Data columns (total 6 columns):\n",
      " #   Column         Non-Null Count  Dtype  \n",
      "---  ------         --------------  -----  \n",
      " 0   Id             150 non-null    int64  \n",
      " 1   SepalLengthCm  150 non-null    float64\n",
      " 2   SepalWidthCm   150 non-null    float64\n",
      " 3   PetalLengthCm  150 non-null    float64\n",
      " 4   PetalWidthCm   150 non-null    float64\n",
      " 5   Species        150 non-null    object \n",
      "dtypes: float64(4), int64(1), object(1)\n",
      "memory usage: 7.2+ KB\n"
     ]
    }
   ],
   "source": [
    "df.info()"
   ]
  },
  {
   "cell_type": "markdown",
   "metadata": {},
   "source": [
    "### Here we can observe that the given dataset has 150 rows & 6 coloumns with no null values"
   ]
  },
  {
   "cell_type": "markdown",
   "metadata": {},
   "source": [
    "### extracting only x as there is no y in unsupervised learning"
   ]
  },
  {
   "cell_type": "code",
   "execution_count": 4,
   "metadata": {},
   "outputs": [
    {
     "data": {
      "text/plain": [
       "array([[5.1, 3.5, 1.4, 0.2],\n",
       "       [4.9, 3. , 1.4, 0.2],\n",
       "       [4.7, 3.2, 1.3, 0.2],\n",
       "       [4.6, 3.1, 1.5, 0.2],\n",
       "       [5. , 3.6, 1.4, 0.2],\n",
       "       [5.4, 3.9, 1.7, 0.4],\n",
       "       [4.6, 3.4, 1.4, 0.3],\n",
       "       [5. , 3.4, 1.5, 0.2],\n",
       "       [4.4, 2.9, 1.4, 0.2],\n",
       "       [4.9, 3.1, 1.5, 0.1],\n",
       "       [5.4, 3.7, 1.5, 0.2],\n",
       "       [4.8, 3.4, 1.6, 0.2],\n",
       "       [4.8, 3. , 1.4, 0.1],\n",
       "       [4.3, 3. , 1.1, 0.1],\n",
       "       [5.8, 4. , 1.2, 0.2],\n",
       "       [5.7, 4.4, 1.5, 0.4],\n",
       "       [5.4, 3.9, 1.3, 0.4],\n",
       "       [5.1, 3.5, 1.4, 0.3],\n",
       "       [5.7, 3.8, 1.7, 0.3],\n",
       "       [5.1, 3.8, 1.5, 0.3],\n",
       "       [5.4, 3.4, 1.7, 0.2],\n",
       "       [5.1, 3.7, 1.5, 0.4],\n",
       "       [4.6, 3.6, 1. , 0.2],\n",
       "       [5.1, 3.3, 1.7, 0.5],\n",
       "       [4.8, 3.4, 1.9, 0.2],\n",
       "       [5. , 3. , 1.6, 0.2],\n",
       "       [5. , 3.4, 1.6, 0.4],\n",
       "       [5.2, 3.5, 1.5, 0.2],\n",
       "       [5.2, 3.4, 1.4, 0.2],\n",
       "       [4.7, 3.2, 1.6, 0.2],\n",
       "       [4.8, 3.1, 1.6, 0.2],\n",
       "       [5.4, 3.4, 1.5, 0.4],\n",
       "       [5.2, 4.1, 1.5, 0.1],\n",
       "       [5.5, 4.2, 1.4, 0.2],\n",
       "       [4.9, 3.1, 1.5, 0.1],\n",
       "       [5. , 3.2, 1.2, 0.2],\n",
       "       [5.5, 3.5, 1.3, 0.2],\n",
       "       [4.9, 3.1, 1.5, 0.1],\n",
       "       [4.4, 3. , 1.3, 0.2],\n",
       "       [5.1, 3.4, 1.5, 0.2],\n",
       "       [5. , 3.5, 1.3, 0.3],\n",
       "       [4.5, 2.3, 1.3, 0.3],\n",
       "       [4.4, 3.2, 1.3, 0.2],\n",
       "       [5. , 3.5, 1.6, 0.6],\n",
       "       [5.1, 3.8, 1.9, 0.4],\n",
       "       [4.8, 3. , 1.4, 0.3],\n",
       "       [5.1, 3.8, 1.6, 0.2],\n",
       "       [4.6, 3.2, 1.4, 0.2],\n",
       "       [5.3, 3.7, 1.5, 0.2],\n",
       "       [5. , 3.3, 1.4, 0.2],\n",
       "       [7. , 3.2, 4.7, 1.4],\n",
       "       [6.4, 3.2, 4.5, 1.5],\n",
       "       [6.9, 3.1, 4.9, 1.5],\n",
       "       [5.5, 2.3, 4. , 1.3],\n",
       "       [6.5, 2.8, 4.6, 1.5],\n",
       "       [5.7, 2.8, 4.5, 1.3],\n",
       "       [6.3, 3.3, 4.7, 1.6],\n",
       "       [4.9, 2.4, 3.3, 1. ],\n",
       "       [6.6, 2.9, 4.6, 1.3],\n",
       "       [5.2, 2.7, 3.9, 1.4],\n",
       "       [5. , 2. , 3.5, 1. ],\n",
       "       [5.9, 3. , 4.2, 1.5],\n",
       "       [6. , 2.2, 4. , 1. ],\n",
       "       [6.1, 2.9, 4.7, 1.4],\n",
       "       [5.6, 2.9, 3.6, 1.3],\n",
       "       [6.7, 3.1, 4.4, 1.4],\n",
       "       [5.6, 3. , 4.5, 1.5],\n",
       "       [5.8, 2.7, 4.1, 1. ],\n",
       "       [6.2, 2.2, 4.5, 1.5],\n",
       "       [5.6, 2.5, 3.9, 1.1],\n",
       "       [5.9, 3.2, 4.8, 1.8],\n",
       "       [6.1, 2.8, 4. , 1.3],\n",
       "       [6.3, 2.5, 4.9, 1.5],\n",
       "       [6.1, 2.8, 4.7, 1.2],\n",
       "       [6.4, 2.9, 4.3, 1.3],\n",
       "       [6.6, 3. , 4.4, 1.4],\n",
       "       [6.8, 2.8, 4.8, 1.4],\n",
       "       [6.7, 3. , 5. , 1.7],\n",
       "       [6. , 2.9, 4.5, 1.5],\n",
       "       [5.7, 2.6, 3.5, 1. ],\n",
       "       [5.5, 2.4, 3.8, 1.1],\n",
       "       [5.5, 2.4, 3.7, 1. ],\n",
       "       [5.8, 2.7, 3.9, 1.2],\n",
       "       [6. , 2.7, 5.1, 1.6],\n",
       "       [5.4, 3. , 4.5, 1.5],\n",
       "       [6. , 3.4, 4.5, 1.6],\n",
       "       [6.7, 3.1, 4.7, 1.5],\n",
       "       [6.3, 2.3, 4.4, 1.3],\n",
       "       [5.6, 3. , 4.1, 1.3],\n",
       "       [5.5, 2.5, 4. , 1.3],\n",
       "       [5.5, 2.6, 4.4, 1.2],\n",
       "       [6.1, 3. , 4.6, 1.4],\n",
       "       [5.8, 2.6, 4. , 1.2],\n",
       "       [5. , 2.3, 3.3, 1. ],\n",
       "       [5.6, 2.7, 4.2, 1.3],\n",
       "       [5.7, 3. , 4.2, 1.2],\n",
       "       [5.7, 2.9, 4.2, 1.3],\n",
       "       [6.2, 2.9, 4.3, 1.3],\n",
       "       [5.1, 2.5, 3. , 1.1],\n",
       "       [5.7, 2.8, 4.1, 1.3],\n",
       "       [6.3, 3.3, 6. , 2.5],\n",
       "       [5.8, 2.7, 5.1, 1.9],\n",
       "       [7.1, 3. , 5.9, 2.1],\n",
       "       [6.3, 2.9, 5.6, 1.8],\n",
       "       [6.5, 3. , 5.8, 2.2],\n",
       "       [7.6, 3. , 6.6, 2.1],\n",
       "       [4.9, 2.5, 4.5, 1.7],\n",
       "       [7.3, 2.9, 6.3, 1.8],\n",
       "       [6.7, 2.5, 5.8, 1.8],\n",
       "       [7.2, 3.6, 6.1, 2.5],\n",
       "       [6.5, 3.2, 5.1, 2. ],\n",
       "       [6.4, 2.7, 5.3, 1.9],\n",
       "       [6.8, 3. , 5.5, 2.1],\n",
       "       [5.7, 2.5, 5. , 2. ],\n",
       "       [5.8, 2.8, 5.1, 2.4],\n",
       "       [6.4, 3.2, 5.3, 2.3],\n",
       "       [6.5, 3. , 5.5, 1.8],\n",
       "       [7.7, 3.8, 6.7, 2.2],\n",
       "       [7.7, 2.6, 6.9, 2.3],\n",
       "       [6. , 2.2, 5. , 1.5],\n",
       "       [6.9, 3.2, 5.7, 2.3],\n",
       "       [5.6, 2.8, 4.9, 2. ],\n",
       "       [7.7, 2.8, 6.7, 2. ],\n",
       "       [6.3, 2.7, 4.9, 1.8],\n",
       "       [6.7, 3.3, 5.7, 2.1],\n",
       "       [7.2, 3.2, 6. , 1.8],\n",
       "       [6.2, 2.8, 4.8, 1.8],\n",
       "       [6.1, 3. , 4.9, 1.8],\n",
       "       [6.4, 2.8, 5.6, 2.1],\n",
       "       [7.2, 3. , 5.8, 1.6],\n",
       "       [7.4, 2.8, 6.1, 1.9],\n",
       "       [7.9, 3.8, 6.4, 2. ],\n",
       "       [6.4, 2.8, 5.6, 2.2],\n",
       "       [6.3, 2.8, 5.1, 1.5],\n",
       "       [6.1, 2.6, 5.6, 1.4],\n",
       "       [7.7, 3. , 6.1, 2.3],\n",
       "       [6.3, 3.4, 5.6, 2.4],\n",
       "       [6.4, 3.1, 5.5, 1.8],\n",
       "       [6. , 3. , 4.8, 1.8],\n",
       "       [6.9, 3.1, 5.4, 2.1],\n",
       "       [6.7, 3.1, 5.6, 2.4],\n",
       "       [6.9, 3.1, 5.1, 2.3],\n",
       "       [5.8, 2.7, 5.1, 1.9],\n",
       "       [6.8, 3.2, 5.9, 2.3],\n",
       "       [6.7, 3.3, 5.7, 2.5],\n",
       "       [6.7, 3. , 5.2, 2.3],\n",
       "       [6.3, 2.5, 5. , 1.9],\n",
       "       [6.5, 3. , 5.2, 2. ],\n",
       "       [6.2, 3.4, 5.4, 2.3],\n",
       "       [5.9, 3. , 5.1, 1.8]])"
      ]
     },
     "execution_count": 4,
     "metadata": {},
     "output_type": "execute_result"
    }
   ],
   "source": [
    "x = df.iloc[:,1:5].values    \n",
    "x"
   ]
  },
  {
   "cell_type": "markdown",
   "metadata": {},
   "source": [
    "### applying the elbow method for selecting the best k cluster value"
   ]
  },
  {
   "cell_type": "code",
   "execution_count": 5,
   "metadata": {},
   "outputs": [
    {
     "data": {
      "image/png": "[encoded data removed]",
      "text/plain": [
       "<Figure size 432x288 with 1 Axes>"
      ]
     },
     "metadata": {
      "needs_background": "light"
     },
     "output_type": "display_data"
    }
   ],
   "source": [
    "from sklearn.cluster import KMeans\n",
    "wcss=[]\n",
    "x1=range(1,11)\n",
    "for i in x1:\n",
    "    clus=KMeans(n_clusters=i,init='k-means++',random_state=0)\n",
    "    clus.fit(x)\n",
    "    wcss.append(clus.inertia_)\n",
    "plt.scatter(x1,wcss,c='red')\n",
    "plt.plot(x1,wcss,c='blue')\n",
    "plt.title('The elbow method')\n",
    "plt.xlabel('Number of clusters')\n",
    "plt.ylabel('WCSS')\n",
    "plt.show() "
   ]
  },
  {
   "cell_type": "markdown",
   "metadata": {},
   "source": [
    "### Observation:- the above graph shows that from no. of clusters= 3 the change in wcss value is undetectable / very less. Hence we choose \"no. of clusters = 3\" for this given dataset / problem. "
   ]
  },
  {
   "cell_type": "markdown",
   "metadata": {},
   "source": [
    "### applying k-means to the dataset / Creating the k-means classifier with k=3"
   ]
  },
  {
   "cell_type": "code",
   "execution_count": 6,
   "metadata": {},
   "outputs": [
    {
     "name": "stdout",
     "output_type": "stream",
     "text": [
      "KMeans(n_clusters=3, random_state=0)\n"
     ]
    }
   ],
   "source": [
    "cluster=KMeans(n_clusters=3,init='k-means++',random_state=0)\n",
    "print(cluster.fit(x))"
   ]
  },
  {
   "cell_type": "markdown",
   "metadata": {},
   "source": [
    "### predicting output"
   ]
  },
  {
   "cell_type": "code",
   "execution_count": 7,
   "metadata": {},
   "outputs": [
    {
     "name": "stdout",
     "output_type": "stream",
     "text": [
      "[1 1 1 1 1 1 1 1 1 1 1 1 1 1 1 1 1 1 1 1 1 1 1 1 1 1 1 1 1 1 1 1 1 1 1 1 1\n",
      " 1 1 1 1 1 1 1 1 1 1 1 1 1 2 2 0 2 2 2 2 2 2 2 2 2 2 2 2 2 2 2 2 2 2 2 2 2\n",
      " 2 2 2 0 2 2 2 2 2 2 2 2 2 2 2 2 2 2 2 2 2 2 2 2 2 2 0 2 0 0 0 0 2 0 0 0 0\n",
      " 0 0 2 2 0 0 0 0 2 0 2 0 2 0 0 2 2 0 0 0 0 0 2 0 0 0 0 2 0 0 0 2 0 0 0 2 0\n",
      " 0 2]\n"
     ]
    }
   ],
   "source": [
    "y_pred=cluster.predict(x)\n",
    "print(y_pred)"
   ]
  },
  {
   "cell_type": "markdown",
   "metadata": {},
   "source": [
    "### reshaping the predicted output i.e (y_pred)"
   ]
  },
  {
   "cell_type": "code",
   "execution_count": 8,
   "metadata": {},
   "outputs": [
    {
     "name": "stdout",
     "output_type": "stream",
     "text": [
      "[[5.1 3.5 1.4 0.2 1. ]\n",
      " [4.9 3.  1.4 0.2 1. ]\n",
      " [4.7 3.2 1.3 0.2 1. ]\n",
      " [4.6 3.1 1.5 0.2 1. ]\n",
      " [5.  3.6 1.4 0.2 1. ]\n",
      " [5.4 3.9 1.7 0.4 1. ]\n",
      " [4.6 3.4 1.4 0.3 1. ]\n",
      " [5.  3.4 1.5 0.2 1. ]\n",
      " [4.4 2.9 1.4 0.2 1. ]\n",
      " [4.9 3.1 1.5 0.1 1. ]\n",
      " [5.4 3.7 1.5 0.2 1. ]\n",
      " [4.8 3.4 1.6 0.2 1. ]\n",
      " [4.8 3.  1.4 0.1 1. ]\n",
      " [4.3 3.  1.1 0.1 1. ]\n",
      " [5.8 4.  1.2 0.2 1. ]\n",
      " [5.7 4.4 1.5 0.4 1. ]\n",
      " [5.4 3.9 1.3 0.4 1. ]\n",
      " [5.1 3.5 1.4 0.3 1. ]\n",
      " [5.7 3.8 1.7 0.3 1. ]\n",
      " [5.1 3.8 1.5 0.3 1. ]\n",
      " [5.4 3.4 1.7 0.2 1. ]\n",
      " [5.1 3.7 1.5 0.4 1. ]\n",
      " [4.6 3.6 1.  0.2 1. ]\n",
      " [5.1 3.3 1.7 0.5 1. ]\n",
      " [4.8 3.4 1.9 0.2 1. ]\n",
      " [5.  3.  1.6 0.2 1. ]\n",
      " [5.  3.4 1.6 0.4 1. ]\n",
      " [5.2 3.5 1.5 0.2 1. ]\n",
      " [5.2 3.4 1.4 0.2 1. ]\n",
      " [4.7 3.2 1.6 0.2 1. ]\n",
      " [4.8 3.1 1.6 0.2 1. ]\n",
      " [5.4 3.4 1.5 0.4 1. ]\n",
      " [5.2 4.1 1.5 0.1 1. ]\n",
      " [5.5 4.2 1.4 0.2 1. ]\n",
      " [4.9 3.1 1.5 0.1 1. ]\n",
      " [5.  3.2 1.2 0.2 1. ]\n",
      " [5.5 3.5 1.3 0.2 1. ]\n",
      " [4.9 3.1 1.5 0.1 1. ]\n",
      " [4.4 3.  1.3 0.2 1. ]\n",
      " [5.1 3.4 1.5 0.2 1. ]\n",
      " [5.  3.5 1.3 0.3 1. ]\n",
      " [4.5 2.3 1.3 0.3 1. ]\n",
      " [4.4 3.2 1.3 0.2 1. ]\n",
      " [5.  3.5 1.6 0.6 1. ]\n",
      " [5.1 3.8 1.9 0.4 1. ]\n",
      " [4.8 3.  1.4 0.3 1. ]\n",
      " [5.1 3.8 1.6 0.2 1. ]\n",
      " [4.6 3.2 1.4 0.2 1. ]\n",
      " [5.3 3.7 1.5 0.2 1. ]\n",
      " [5.  3.3 1.4 0.2 1. ]\n",
      " [7.  3.2 4.7 1.4 2. ]\n",
      " [6.4 3.2 4.5 1.5 2. ]\n",
      " [6.9 3.1 4.9 1.5 0. ]\n",
      " [5.5 2.3 4.  1.3 2. ]\n",
      " [6.5 2.8 4.6 1.5 2. ]\n",
      " [5.7 2.8 4.5 1.3 2. ]\n",
      " [6.3 3.3 4.7 1.6 2. ]\n",
      " [4.9 2.4 3.3 1.  2. ]\n",
      " [6.6 2.9 4.6 1.3 2. ]\n",
      " [5.2 2.7 3.9 1.4 2. ]\n",
      " [5.  2.  3.5 1.  2. ]\n",
      " [5.9 3.  4.2 1.5 2. ]\n",
      " [6.  2.2 4.  1.  2. ]\n",
      " [6.1 2.9 4.7 1.4 2. ]\n",
      " [5.6 2.9 3.6 1.3 2. ]\n",
      " [6.7 3.1 4.4 1.4 2. ]\n",
      " [5.6 3.  4.5 1.5 2. ]\n",
      " [5.8 2.7 4.1 1.  2. ]\n",
      " [6.2 2.2 4.5 1.5 2. ]\n",
      " [5.6 2.5 3.9 1.1 2. ]\n",
      " [5.9 3.2 4.8 1.8 2. ]\n",
      " [6.1 2.8 4.  1.3 2. ]\n",
      " [6.3 2.5 4.9 1.5 2. ]\n",
      " [6.1 2.8 4.7 1.2 2. ]\n",
      " [6.4 2.9 4.3 1.3 2. ]\n",
      " [6.6 3.  4.4 1.4 2. ]\n",
      " [6.8 2.8 4.8 1.4 2. ]\n",
      " [6.7 3.  5.  1.7 0. ]\n",
      " [6.  2.9 4.5 1.5 2. ]\n",
      " [5.7 2.6 3.5 1.  2. ]\n",
      " [5.5 2.4 3.8 1.1 2. ]\n",
      " [5.5 2.4 3.7 1.  2. ]\n",
      " [5.8 2.7 3.9 1.2 2. ]\n",
      " [6.  2.7 5.1 1.6 2. ]\n",
      " [5.4 3.  4.5 1.5 2. ]\n",
      " [6.  3.4 4.5 1.6 2. ]\n",
      " [6.7 3.1 4.7 1.5 2. ]\n",
      " [6.3 2.3 4.4 1.3 2. ]\n",
      " [5.6 3.  4.1 1.3 2. ]\n",
      " [5.5 2.5 4.  1.3 2. ]\n",
      " [5.5 2.6 4.4 1.2 2. ]\n",
      " [6.1 3.  4.6 1.4 2. ]\n",
      " [5.8 2.6 4.  1.2 2. ]\n",
      " [5.  2.3 3.3 1.  2. ]\n",
      " [5.6 2.7 4.2 1.3 2. ]\n",
      " [5.7 3.  4.2 1.2 2. ]\n",
      " [5.7 2.9 4.2 1.3 2. ]\n",
      " [6.2 2.9 4.3 1.3 2. ]\n",
      " [5.1 2.5 3.  1.1 2. ]\n",
      " [5.7 2.8 4.1 1.3 2. ]\n",
      " [6.3 3.3 6.  2.5 0. ]\n",
      " [5.8 2.7 5.1 1.9 2. ]\n",
      " [7.1 3.  5.9 2.1 0. ]\n",
      " [6.3 2.9 5.6 1.8 0. ]\n",
      " [6.5 3.  5.8 2.2 0. ]\n",
      " [7.6 3.  6.6 2.1 0. ]\n",
      " [4.9 2.5 4.5 1.7 2. ]\n",
      " [7.3 2.9 6.3 1.8 0. ]\n",
      " [6.7 2.5 5.8 1.8 0. ]\n",
      " [7.2 3.6 6.1 2.5 0. ]\n",
      " [6.5 3.2 5.1 2.  0. ]\n",
      " [6.4 2.7 5.3 1.9 0. ]\n",
      " [6.8 3.  5.5 2.1 0. ]\n",
      " [5.7 2.5 5.  2.  2. ]\n",
      " [5.8 2.8 5.1 2.4 2. ]\n",
      " [6.4 3.2 5.3 2.3 0. ]\n",
      " [6.5 3.  5.5 1.8 0. ]\n",
      " [7.7 3.8 6.7 2.2 0. ]\n",
      " [7.7 2.6 6.9 2.3 0. ]\n",
      " [6.  2.2 5.  1.5 2. ]\n",
      " [6.9 3.2 5.7 2.3 0. ]\n",
      " [5.6 2.8 4.9 2.  2. ]\n",
      " [7.7 2.8 6.7 2.  0. ]\n",
      " [6.3 2.7 4.9 1.8 2. ]\n",
      " [6.7 3.3 5.7 2.1 0. ]\n",
      " [7.2 3.2 6.  1.8 0. ]\n",
      " [6.2 2.8 4.8 1.8 2. ]\n",
      " [6.1 3.  4.9 1.8 2. ]\n",
      " [6.4 2.8 5.6 2.1 0. ]\n",
      " [7.2 3.  5.8 1.6 0. ]\n",
      " [7.4 2.8 6.1 1.9 0. ]\n",
      " [7.9 3.8 6.4 2.  0. ]\n",
      " [6.4 2.8 5.6 2.2 0. ]\n",
      " [6.3 2.8 5.1 1.5 2. ]\n",
      " [6.1 2.6 5.6 1.4 0. ]\n",
      " [7.7 3.  6.1 2.3 0. ]\n",
      " [6.3 3.4 5.6 2.4 0. ]\n",
      " [6.4 3.1 5.5 1.8 0. ]\n",
      " [6.  3.  4.8 1.8 2. ]\n",
      " [6.9 3.1 5.4 2.1 0. ]\n",
      " [6.7 3.1 5.6 2.4 0. ]\n",
      " [6.9 3.1 5.1 2.3 0. ]\n",
      " [5.8 2.7 5.1 1.9 2. ]\n",
      " [6.8 3.2 5.9 2.3 0. ]\n",
      " [6.7 3.3 5.7 2.5 0. ]\n",
      " [6.7 3.  5.2 2.3 0. ]\n",
      " [6.3 2.5 5.  1.9 2. ]\n",
      " [6.5 3.  5.2 2.  0. ]\n",
      " [6.2 3.4 5.4 2.3 0. ]\n",
      " [5.9 3.  5.1 1.8 2. ]]\n"
     ]
    }
   ],
   "source": [
    "y_col=y_pred.reshape(len(y_pred),1)\n",
    "output=np.append(arr=x,values=y_col,axis=1)\n",
    "print(output)"
   ]
  },
  {
   "cell_type": "markdown",
   "metadata": {},
   "source": [
    "### Visualising the clusters - On the first two columns using scatter plot"
   ]
  },
  {
   "cell_type": "code",
   "execution_count": 9,
   "metadata": {},
   "outputs": [
    {
     "data": {
      "text/plain": [
       "<matplotlib.legend.Legend at 0x238854ce400>"
      ]
     },
     "execution_count": 9,
     "metadata": {},
     "output_type": "execute_result"
    },
    {
     "data": {
      "image/png": "[encoded data removed]",
      "text/plain": [
       "<Figure size 432x288 with 1 Axes>"
      ]
     },
     "metadata": {
      "needs_background": "light"
     },
     "output_type": "display_data"
    }
   ],
   "source": [
    "plt.scatter(x[y_pred == 0, 0], x[y_pred == 0, 1], \n",
    "            s = 100, c = 'red', label = 'Iris-setosa')\n",
    "plt.scatter(x[y_pred == 1, 0], x[y_pred == 1, 1], \n",
    "            s = 100, c = 'blue', label = 'Iris-versicolour')\n",
    "plt.scatter(x[y_pred == 2, 0], x[y_pred == 2, 1],\n",
    "            s = 100, c = 'green', label = 'Iris-virginica')\n",
    "\n",
    "# Plotting the centroids of the clusters\n",
    "plt.scatter(cluster.cluster_centers_[:, 0], cluster.cluster_centers_[:,1], \n",
    "            s = 100, c = 'yellow', label = 'Centroids')\n",
    "\n",
    "plt.legend()"
   ]
  },
  {
   "cell_type": "markdown",
   "metadata": {},
   "source": [
    "## THANK YOU!!!"
   ]
  }
 ],
 "metadata": {
  "kernelspec": {
   "display_name": "Python 3",
   "language": "python",
   "name": "python3"
  },
  "language_info": {
   "codemirror_mode": {
    "name": "ipython",
    "version": 3
   },
   "file_extension": ".py",
   "mimetype": "text/x-python",
   "name": "python",
   "nbconvert_exporter": "python",
   "pygments_lexer": "ipython3",
   "version": "3.8.1"
  }
 },
 "nbformat": 4,
 "nbformat_minor": 4
}
